{
 "cells": [
  {
   "cell_type": "code",
   "execution_count": 69,
   "metadata": {},
   "outputs": [],
   "source": [
    "import pandas as pd\n",
    "import numpy as np\n",
    "import seaborn as sns\n",
    "import matplotlib.pyplot as plt\n",
    "from IPython.display import display, HTML\n",
    "from statsmodels.tsa.seasonal import seasonal_decompose\n",
    "from sklearn.preprocessing import MinMaxScaler\n",
    "from sklearn.model_selection import train_test_split\n",
    "from sklearn.decomposition import PCA\n",
    "from sklearn.preprocessing import StandardScaler\n",
    "from statsmodels.tsa.seasonal import seasonal_decompose"
   ]
  },
  {
   "cell_type": "code",
   "execution_count": 70,
   "metadata": {},
   "outputs": [],
   "source": [
    "# Load in the datasets\n",
    "df_train = pd.read_csv('../data/train.csv')\n",
    "df_oil = pd.read_csv('../data/oil.csv')\n",
    "df_holidays_events = pd.read_csv('../data/holidays_events.csv')\n",
    "df_stores = pd.read_csv('../data/stores.csv')\n",
    "df_transactions = pd.read_csv('../data/transactions.csv')\n",
    "# df_test = pd.read_csv('../data/test.csv')\n",
    "\n",
    "df_train['date'] = pd.to_datetime(df_train['date'])\n",
    "df_oil['date'] = pd.to_datetime(df_oil['date'])\n",
    "df_holidays_events['date'] = pd.to_datetime(df_holidays_events['date'])\n",
    "df_transactions['date'] = pd.to_datetime(df_transactions['date'])\n",
    "\n",
    "dataframes = {\n",
    "    'Training dataset': df_train,\n",
    "    'Oil price dataset' :df_oil,\n",
    "    'Holidays and events dataset': df_holidays_events,\n",
    "    'Stores dataset': df_stores,\n",
    "    'Transactions dataset': df_transactions\n",
    "}"
   ]
  },
  {
   "cell_type": "code",
   "execution_count": 71,
   "metadata": {},
   "outputs": [],
   "source": [
    "pd.set_option('display.float_format', '{:.3f}'.format)\n",
    "pd.set_option('display.max_columns', None)\n",
    "pd.set_option('display.max_rows', None)\n",
    "pd.set_option('display.max_colwidth', None)\n",
    "pd.set_option('display.expand_frame_repr', False) "
   ]
  },
  {
   "cell_type": "code",
   "execution_count": 14,
   "metadata": {},
   "outputs": [
    {
     "data": {
      "text/html": [
       "<div>\n",
       "<style scoped>\n",
       "    .dataframe tbody tr th:only-of-type {\n",
       "        vertical-align: middle;\n",
       "    }\n",
       "\n",
       "    .dataframe tbody tr th {\n",
       "        vertical-align: top;\n",
       "    }\n",
       "\n",
       "    .dataframe thead th {\n",
       "        text-align: right;\n",
       "    }\n",
       "</style>\n",
       "<table border=\"1\" class=\"dataframe\">\n",
       "  <thead>\n",
       "    <tr style=\"text-align: right;\">\n",
       "      <th></th>\n",
       "      <th>id</th>\n",
       "      <th>date</th>\n",
       "      <th>store_nbr</th>\n",
       "      <th>family</th>\n",
       "      <th>sales</th>\n",
       "      <th>onpromotion</th>\n",
       "    </tr>\n",
       "  </thead>\n",
       "  <tbody>\n",
       "    <tr>\n",
       "      <th>2445984</th>\n",
       "      <td>2445984</td>\n",
       "      <td>2016-10-07</td>\n",
       "      <td>39</td>\n",
       "      <td>MEATS</td>\n",
       "      <td>89576.360</td>\n",
       "      <td>0</td>\n",
       "    </tr>\n",
       "  </tbody>\n",
       "</table>\n",
       "</div>"
      ],
      "text/plain": [
       "              id       date  store_nbr family     sales  onpromotion\n",
       "2445984  2445984 2016-10-07         39  MEATS 89576.360            0"
      ]
     },
     "execution_count": 14,
     "metadata": {},
     "output_type": "execute_result"
    }
   ],
   "source": [
    "terremoto_dates = df_holidays_events[df_holidays_events['description'].str.contains('Terremoto Manabi', case=False, na=False)]['date']\n",
    "terremoto_sales = df_train[df_train['date'].isin(terremoto_dates)]\n",
    "non_terremoto_sales = df_train[~df_train['date'].isin(terremoto_dates)]\n",
    "non_terremoto_sales.sort_values(by='sales', ascending=False).head(1)"
   ]
  },
  {
   "cell_type": "code",
   "execution_count": 80,
   "metadata": {
    "vscode": {
     "languageId": "r"
    }
   },
   "outputs": [
    {
     "data": {
      "text/html": [
       "<div>\n",
       "<style scoped>\n",
       "    .dataframe tbody tr th:only-of-type {\n",
       "        vertical-align: middle;\n",
       "    }\n",
       "\n",
       "    .dataframe tbody tr th {\n",
       "        vertical-align: top;\n",
       "    }\n",
       "\n",
       "    .dataframe thead th {\n",
       "        text-align: right;\n",
       "    }\n",
       "</style>\n",
       "<table border=\"1\" class=\"dataframe\">\n",
       "  <thead>\n",
       "    <tr style=\"text-align: right;\">\n",
       "      <th></th>\n",
       "      <th>id</th>\n",
       "      <th>date</th>\n",
       "      <th>store_nbr</th>\n",
       "      <th>family</th>\n",
       "      <th>sales</th>\n",
       "      <th>onpromotion</th>\n",
       "    </tr>\n",
       "  </thead>\n",
       "  <tbody>\n",
       "    <tr>\n",
       "      <th>0</th>\n",
       "      <td>484728</td>\n",
       "      <td>2013-09-30</td>\n",
       "      <td>1</td>\n",
       "      <td>MEATS</td>\n",
       "      <td>458.761</td>\n",
       "      <td>0</td>\n",
       "    </tr>\n",
       "    <tr>\n",
       "      <th>1</th>\n",
       "      <td>484761</td>\n",
       "      <td>2013-09-30</td>\n",
       "      <td>10</td>\n",
       "      <td>MEATS</td>\n",
       "      <td>239.581</td>\n",
       "      <td>0</td>\n",
       "    </tr>\n",
       "    <tr>\n",
       "      <th>2</th>\n",
       "      <td>484794</td>\n",
       "      <td>2013-09-30</td>\n",
       "      <td>11</td>\n",
       "      <td>MEATS</td>\n",
       "      <td>501.890</td>\n",
       "      <td>0</td>\n",
       "    </tr>\n",
       "    <tr>\n",
       "      <th>3</th>\n",
       "      <td>484827</td>\n",
       "      <td>2013-09-30</td>\n",
       "      <td>12</td>\n",
       "      <td>MEATS</td>\n",
       "      <td>153.952</td>\n",
       "      <td>0</td>\n",
       "    </tr>\n",
       "    <tr>\n",
       "      <th>4</th>\n",
       "      <td>484860</td>\n",
       "      <td>2013-09-30</td>\n",
       "      <td>13</td>\n",
       "      <td>MEATS</td>\n",
       "      <td>140.332</td>\n",
       "      <td>0</td>\n",
       "    </tr>\n",
       "  </tbody>\n",
       "</table>\n",
       "</div>"
      ],
      "text/plain": [
       "       id       date  store_nbr family   sales  onpromotion\n",
       "0  484728 2013-09-30          1  MEATS 458.761            0\n",
       "1  484761 2013-09-30         10  MEATS 239.581            0\n",
       "2  484794 2013-09-30         11  MEATS 501.890            0\n",
       "3  484827 2013-09-30         12  MEATS 153.952            0\n",
       "4  484860 2013-09-30         13  MEATS 140.332            0"
      ]
     },
     "execution_count": 80,
     "metadata": {},
     "output_type": "execute_result"
    }
   ],
   "source": [
    "\n",
    "\n",
    "# Step 1: Extract all dates for 'Cantonizacion de Quevedo' in df_holidays_events\n",
    "event_dates = df_holidays_events[df_holidays_events['description'] == 'Cantonizacion de Quevedo']['date']\n",
    "\n",
    "# Initialize an empty DataFrame to collect the results\n",
    "meats_sales_all_events = pd.DataFrame()\n",
    "\n",
    "# Step 2: Loop over all event dates, create a date range, and filter df_train\n",
    "for event_date in event_dates:\n",
    "    start_date = pd.to_datetime(event_date) - pd.Timedelta(days=7)\n",
    "    end_date = pd.to_datetime(event_date) + pd.Timedelta(days=7)\n",
    "    \n",
    "    # Filter df_train for 'MEATS' sales within the date range\n",
    "    meats_sales = df_train[(df_train['family'] == 'MEATS') & \n",
    "                           (df_train['date'] >= start_date) & \n",
    "                           (df_train['date'] <= end_date)]\n",
    "    \n",
    "    # Append the results to the final DataFrame\n",
    "    meats_sales_all_events = pd.concat([meats_sales_all_events, meats_sales])\n",
    "\n",
    "# Step 3: Display the collected sales data\n",
    "meats_sales_all_events.reset_index(drop=True, inplace=True)\n",
    "meats_sales_all_events.head()\n"
   ]
  },
  {
   "cell_type": "code",
   "execution_count": 9,
   "metadata": {},
   "outputs": [
    {
     "name": "stderr",
     "output_type": "stream",
     "text": [
      "C:\\Users\\ander\\AppData\\Local\\Temp\\ipykernel_16832\\909190278.py:10: UserWarning: Creating legend with loc=\"best\" can be slow with large amounts of data.\n",
      "  plt.tight_layout()\n"
     ]
    },
    {
     "data": {
      "image/png": "[encoded data removed]",
      "text/plain": [
       "<Figure size 1200x600 with 1 Axes>"
      ]
     },
     "metadata": {},
     "output_type": "display_data"
    }
   ],
   "source": [
    "# Plot the sales data for the filtered dates\n",
    "plt.figure(figsize=(12, 6))\n",
    "plt.scatter(df_train['date'], df_train['sales'], color='blue', label='All Sales', alpha=0.6)\n",
    "plt.scatter(terremoto_sales['date'], terremoto_sales['sales'], color='red', label='Sales on Terremoto Manabi Dates')\n",
    "plt.xlabel('Date')\n",
    "plt.ylabel('Sales')\n",
    "plt.title('Sales on Dates with \"Terremoto Manabi\" Events')\n",
    "plt.legend()\n",
    "plt.xticks(rotation=45)\n",
    "plt.tight_layout()\n",
    "plt.show()"
   ]
  },
  {
   "cell_type": "code",
   "execution_count": null,
   "metadata": {},
   "outputs": [],
   "source": [
    "df_train[df_train['family'] == 'MEATS'].sort_values(by='sales', ascending=False).head()"
   ]
  },
  {
   "cell_type": "code",
   "execution_count": null,
   "metadata": {},
   "outputs": [],
   "source": [
    "# Check for column existence before dropping\n",
    "columns_to_drop = ['id', 'store_nbr', 'onpromotion']\n",
    "df_train_filtered = df_train.drop(columns=[col for col in columns_to_drop if col in df_train.columns])\n",
    "\n",
    "# Group by 'date' and 'family', summing the numeric columns\n",
    "df = df_train_filtered.groupby(['date', 'family']).sum().reset_index()\n",
    "\n",
    "df = df.sort_values(by='sales', ascending=False)\n",
    "\n",
    "# Plot showing which families have the most sales\n",
    "plt.figure(figsize=(14, 7))\n",
    "family_sales = df.groupby('family')['sales'].sum().sort_values(ascending=False)\n",
    "family_sales.plot(kind='bar', color='skyblue')\n",
    "plt.title('Total Sales by Family')\n",
    "plt.xlabel('Family')\n",
    "plt.ylabel('Total Sales')\n",
    "plt.xticks(rotation=45)\n",
    "plt.tight_layout()\n",
    "plt.show()\n"
   ]
  },
  {
   "cell_type": "markdown",
   "metadata": {},
   "source": [
    "# Task 1. Data Exploration"
   ]
  },
  {
   "cell_type": "markdown",
   "metadata": {},
   "source": [
    "## a. Explore the dataset by displaying the first few rows, summary statistics, and data types of each column."
   ]
  },
  {
   "cell_type": "markdown",
   "metadata": {},
   "source": [
    "### Display the first 5 rows\n",
    "**Har valgt å ta de separat fordi det virker som at data clean kommer før integration**"
   ]
  },
  {
   "cell_type": "code",
   "execution_count": null,
   "metadata": {},
   "outputs": [],
   "source": [
    "for name, df in dataframes.items():\n",
    "    display(HTML(f\"<h3 style='color: black;'>{name}</h3>\"))\n",
    "    display(df.head())"
   ]
  },
  {
   "cell_type": "markdown",
   "metadata": {},
   "source": [
    "### Display the summary statistics for numerical columns"
   ]
  },
  {
   "cell_type": "code",
   "execution_count": null,
   "metadata": {},
   "outputs": [],
   "source": [
    "for name, df in dataframes.items():\n",
    "    display(HTML(f\"<h3 style='color: black;'>{name}</h3>\"))\n",
    "    display(df.describe())"
   ]
  },
  {
   "cell_type": "markdown",
   "metadata": {},
   "source": [
    "### Display the data type of each column"
   ]
  },
  {
   "cell_type": "code",
   "execution_count": null,
   "metadata": {},
   "outputs": [],
   "source": [
    "for name, df in dataframes.items():\n",
    "    display(HTML(f\"<h3 style='color: black;'>{name}</h3>\"))\n",
    "    display(df.dtypes)"
   ]
  },
  {
   "cell_type": "markdown",
   "metadata": {},
   "source": [
    "## b. Identify missing values, outliers, and unique values in categorical columns."
   ]
  },
  {
   "cell_type": "markdown",
   "metadata": {},
   "source": [
    "### Identify missing values"
   ]
  },
  {
   "cell_type": "code",
   "execution_count": null,
   "metadata": {},
   "outputs": [],
   "source": [
    "for name, df in dataframes.items():\n",
    "    display(HTML(f\"<h3 style='color: black;'>{name}</h3>\"))\n",
    "    display(df.isnull().sum())"
   ]
  },
  {
   "cell_type": "markdown",
   "metadata": {},
   "source": [
    "### Identify for outliers\n",
    "Har bare plottet opp scatterplot av numerisk data som funksjon av tid, basert på det rent visuelle ser man at det er enkelte registreringer som er forholdsvis langt unna andre registrerringer, som kan tyde på at de muligens kan være outliers. Dette undersøkes nærmere i punkt 3 for \"handling outliers\"."
   ]
  },
  {
   "cell_type": "code",
   "execution_count": null,
   "metadata": {},
   "outputs": [],
   "source": [
    "plt.figure(figsize=(12, 6))\n",
    "plt.scatter(x=df_train['date'], y=df_train['sales'], label='Sales', marker='o', s=10)\n",
    "plt.xlabel('Date')\n",
    "plt.ylabel('Sales')\n",
    "plt.title('Sales by date')\n",
    "plt.legend()\n",
    "plt.show()"
   ]
  },
  {
   "cell_type": "code",
   "execution_count": null,
   "metadata": {},
   "outputs": [],
   "source": [
    "plt.figure(figsize=(12, 6))\n",
    "plt.scatter(x=df_train['date'], y=df_train['onpromotion'], label='Promotion', marker='o', s=10)\n",
    "plt.xlabel('Date')\n",
    "plt.ylabel('Promotion')\n",
    "plt.title('Promotion by date')\n",
    "plt.legend()\n",
    "plt.show()"
   ]
  },
  {
   "cell_type": "code",
   "execution_count": null,
   "metadata": {},
   "outputs": [],
   "source": [
    "plt.figure(figsize=(12, 6))\n",
    "plt.scatter(x=df_oil['date'], y=df_oil['dcoilwtico'], label='oil price', marker='o', s=10)\n",
    "plt.xlabel('Date')\n",
    "plt.ylabel('Sales')\n",
    "plt.title('Oil price by date')\n",
    "plt.legend()\n",
    "plt.show()"
   ]
  },
  {
   "cell_type": "code",
   "execution_count": null,
   "metadata": {},
   "outputs": [],
   "source": [
    "plt.figure(figsize=(12, 6))\n",
    "plt.scatter(x=df_transactions['date'], y=df_transactions['transactions'], label='Transactions', marker='o', s=10)\n",
    "plt.xlabel('Date')\n",
    "plt.ylabel('Transactions')\n",
    "plt.title('Transactions by date')\n",
    "plt.legend()\n",
    "plt.show()"
   ]
  },
  {
   "cell_type": "markdown",
   "metadata": {},
   "source": [
    "### Check for unique values in categorical columns"
   ]
  },
  {
   "cell_type": "code",
   "execution_count": null,
   "metadata": {},
   "outputs": [],
   "source": [
    "for name, df in dataframes.items():\n",
    "    display(HTML(f\"<h3 style='color: black;'>{name}</h3>\"))\n",
    "    columns_to_display = list(df.select_dtypes(include=[\"object\"]).columns) \n",
    "    if 'store_nbr' in df:\n",
    "        columns_to_display.append('store_nbr')\n",
    "    columns_to_display = [column for column in columns_to_display if column != 'date']\n",
    "    display(\n",
    "        HTML(\n",
    "            pd.DataFrame(\n",
    "                [\n",
    "                    {\n",
    "                        \"Column Name\": column,\n",
    "                        \"Unique Values\": \", \".join(map(str, df[column].unique())),\n",
    "                    }\n",
    "                    for column in columns_to_display\n",
    "                ]\n",
    "            ).to_html(index=False)\n",
    "        )\n",
    "    )"
   ]
  },
  {
   "cell_type": "markdown",
   "metadata": {},
   "source": [
    "# Task 2. Data Cleaning"
   ]
  },
  {
   "cell_type": "markdown",
   "metadata": {},
   "source": [
    "## a. Handling Missing Values\n",
    "## b. Choose appropriate methods to handle missing values (e.g., mean/median imputation for numerical data, mode imputation for categorical data, or deletion of rows/columns)."
   ]
  },
  {
   "cell_type": "markdown",
   "metadata": {},
   "source": [
    "Det er kun oil price som har missing values, og den har kun 1219 rader. \n",
    "Dette går nok innunder kategorien 'lite datasett', og man kan dermed ikke bare fjerne radene med manglende verdier. Dette kommer til å fjerne 5% av datasettet. \n",
    "\n",
    "Da blir det \"imputation\", narurlig med mean eller median. [Denne](https://www.kaggle.com/code/pagenotfound/mean-and-median-imputation) artikkelen sier at mean brukes når fordelingen er normalfordelt, eller median. Basert på histogrammet er det tydelig at fordelingen ikke er normalfordelt, så da blir det median. Det gir iidlertid denne utviklingen, som ikke ser helt realistisk ut:"
   ]
  },
  {
   "cell_type": "code",
   "execution_count": null,
   "metadata": {},
   "outputs": [],
   "source": [
    "df_oil_copy = df_oil.copy()\n",
    "median_value = df_oil_copy['dcoilwtico'].median()\n",
    "original_dcoilwtico = df_oil_copy['dcoilwtico'].copy()\n",
    "df_oil_copy['dcoilwtico'] = df_oil_copy['dcoilwtico'].fillna(median_value)\n",
    "filled_mask = original_dcoilwtico.isnull()\n",
    "plt.figure(figsize=(14, 7))\n",
    "sns.lineplot(data=df_oil_copy, x='date', y='dcoilwtico', color='blue', label='dcoilwtico', marker='', linestyle='-')\n",
    "plt.scatter(df_oil_copy.loc[filled_mask, 'date'], \n",
    "    df_oil_copy.loc[filled_mask, 'dcoilwtico'], \n",
    "    color='red', label='Filled Values', s=50\n",
    ")\n",
    "plt.title('Time Series Plot of dcoilwtico with Filled Values Highlighted')\n",
    "plt.xlabel('Date')\n",
    "plt.ylabel('dcoilwtico')\n",
    "plt.xticks(rotation=45)\n",
    "plt.grid()\n",
    "plt.legend()\n",
    "plt.tight_layout()\n",
    "plt.show()\n"
   ]
  },
  {
   "cell_type": "code",
   "execution_count": null,
   "metadata": {},
   "outputs": [],
   "source": [
    "df_oil_copy = df_oil.copy()\n",
    "original_dcoilwtico = df_oil_copy['dcoilwtico'].copy()\n",
    "df_oil_copy['dcoilwtico'] = df_oil_copy['dcoilwtico'].ffill().interpolate().bfill()\n",
    "filled_mask = original_dcoilwtico.isnull()\n",
    "plt.figure(figsize=(14, 7))\n",
    "sns.lineplot(data=df_oil_copy, x='date', y='dcoilwtico', color='blue', label='dcoilwtico', marker='', linestyle='-')\n",
    "plt.scatter(df_oil_copy.loc[filled_mask, 'date'], \n",
    "            df_oil_copy.loc[filled_mask, 'dcoilwtico'], \n",
    "            color='red', label='Filled Values', s=50)\n",
    "plt.title('Time Series Plot of dcoilwtico with Filled Values Highlighted (Linear Interpolation)')\n",
    "plt.xlabel('Date')\n",
    "plt.ylabel('dcoilwtico')\n",
    "plt.xticks(rotation=45)\n",
    "plt.grid()\n",
    "plt.legend()\n",
    "plt.tight_layout()\n",
    "plt.show()\n",
    "\n",
    "# since it looks good, use this as df_oil\n",
    "df_oil = df_oil_copy.copy()\n",
    "df_oil.isnull().sum()"
   ]
  },
  {
   "cell_type": "markdown",
   "metadata": {},
   "source": [
    "## c. Justify your choices for handling missing data."
   ]
  },
  {
   "cell_type": "markdown",
   "metadata": {},
   "source": [
    "Basert på timeseries'ene, så virker det svært lite realitsik at de verdiene vi erstatter faktisk er median-verdier, eller noe i nærheten. Ved å plott opp utfyllingen ved å heller bruke lineær itnerpolasjon, ser det ut til at de innfylte dataene passer mye bedre inn. "
   ]
  },
  {
   "cell_type": "markdown",
   "metadata": {},
   "source": [
    "# Task 3. Handling Outliers"
   ]
  },
  {
   "cell_type": "markdown",
   "metadata": {},
   "source": [
    "## a. Detect outliers using methods such as the IQR method or Z-score."
   ]
  },
  {
   "cell_type": "markdown",
   "metadata": {},
   "source": [
    "Z-score baserer seg på å kvitte seg med verdier utenfor 3*standardavviket. Her burde dog dataen være notmalfordelt, og ikke være en tidsserie der dataen har en trend. Trenden kan gjøre at verdiene på starten/slutten blir tatt vekk fordi de er for ekstreme, når det egentlig bare skyldes at trenden har økt, og ikke at det er feilregistreringer. Dermed er den ikke bra her.\n",
    "\n",
    "IQR trenger ikke nødvendigvis normalfordelt data, men som forklart her vil ikke dette fungere godt i dette tilfellet (som boxplot'et ogs viser):\n",
    "I wouldn't use IQR nor Percentiles to detect outliers in a times series since these statistics are computed on the overall sample (at least how I understand it with your question) but you have some effects (dynamic/cyclic/trends) in time series. In fact, if your value grows over time (or is cyclical) you may detect outliers regarding previous values. [kilde fra forum](https://stats.stackexchange.com/questions/486466/a-robust-technique-to-detect-outliers-from-time-series-data)\n",
    "\n",
    "I forelesningen ble det foreslått å bruke \"sliding z-score\" ellernoe for timeseries, har plottet opp den under. Greia her er dog at for at verdiene skal bli klassifisert som outliers, så burde det ikke være noen legitim grunn til at det er så ekstreme. Men om man sammenlikner med holidays og events og ser foreksempel at det var et rekordstort jordskjelv rett før sales økte noe voldsomt, så er det plutselig en grunn til at sales har økt, og det blir rart å klassifisere de som outliers (siden de er ekstreme av en grunn).\n",
    "\n",
    "Foreslår dermed å ikke klassifisere noen verdier som outliers, siden ingen av verdiene er ekstreme av overraskende grunner."
   ]
  },
  {
   "cell_type": "code",
   "execution_count": null,
   "metadata": {},
   "outputs": [],
   "source": [
    "# Hvorfor z-score ikke fungerer\n",
    "# Calculate mean and standard deviation\n",
    "mean_sales = df_train['sales'].mean()\n",
    "std_sales = df_train['sales'].std()\n",
    "\n",
    "# Calculate upper and lower bounds for Z-score outlier detection\n",
    "z_threshold = 3\n",
    "upper_bound = mean_sales + (z_threshold * std_sales)\n",
    "lower_bound = mean_sales - (z_threshold * std_sales)\n",
    "\n",
    "# Create a plot with only scatter\n",
    "plt.figure(figsize=(14, 7))\n",
    "\n",
    "# Scatter plot of sales\n",
    "plt.scatter(df_train['date'], df_train['sales'], color='blue', alpha=0.6)\n",
    "\n",
    "# Add horizontal lines for upper and lower bounds\n",
    "plt.axhline(upper_bound, color='red', linestyle='--', label='Upper Bound (Z=3)')\n",
    "plt.axhline(lower_bound, color='red', linestyle='--', label='Lower Bound (Z=-3)')\n",
    "\n",
    "# Highlight the outliers\n",
    "outliers = df_train[(df_train['sales'] > upper_bound) | (df_train['sales'] < lower_bound)]\n",
    "plt.scatter(outliers['date'], outliers['sales'], color='red', label='Outliers', zorder=5)\n",
    "\n",
    "# Plot customization\n",
    "plt.title('Sales Time Series with Z-score Outlier Detection Bands')\n",
    "plt.xlabel('Date')\n",
    "plt.ylabel('Sales')\n",
    "plt.legend()\n",
    "plt.grid()\n",
    "plt.show()\n",
    "print((len(outliers) / len(df_train)) * 100)"
   ]
  },
  {
   "cell_type": "code",
   "execution_count": null,
   "metadata": {},
   "outputs": [],
   "source": [
    "# Hvorfor IQR ikke fungerer\n",
    "plt.boxplot(df_train['sales'])\n",
    "plt.show()"
   ]
  },
  {
   "cell_type": "code",
   "execution_count": null,
   "metadata": {},
   "outputs": [],
   "source": [
    "# Calculate the IQR bounds\n",
    "q1 = df_train['sales'].quantile(0.25)\n",
    "q3 = df_train['sales'].quantile(0.75)\n",
    "iqr = q3 - q1\n",
    "\n",
    "lower_bound = q1 - 1.5 * iqr\n",
    "upper_bound = q3 + 1.5 * iqr\n",
    "\n",
    "# Plot the time series with the IQR bounds\n",
    "plt.figure(figsize=(14, 7))\n",
    "plt.plot(df_train.index, df_train['sales'], color='blue', label='Sales', alpha=0.6)\n",
    "\n",
    "# Add horizontal lines for upper and lower bounds\n",
    "plt.axhline(upper_bound, color='red', linestyle='--', label='Upper Bound (IQR)')\n",
    "plt.axhline(lower_bound, color='red', linestyle='--', label='Lower Bound (IQR)')\n",
    "\n",
    "# Highlight the outliers based on IQR\n",
    "outliers = df_train[(df_train['sales'] > upper_bound) | (df_train['sales'] < lower_bound)]\n",
    "plt.scatter(outliers.index, outliers['sales'], color='red', label='Outliers', zorder=5)\n",
    "\n",
    "# Customize the plot\n",
    "plt.title('Sales Time Series with IQR Outlier Detection')\n",
    "plt.xlabel('Date')\n",
    "plt.ylabel('Sales')\n",
    "plt.legend()\n",
    "plt.grid()\n",
    "plt.show()\n"
   ]
  },
  {
   "cell_type": "code",
   "execution_count": null,
   "metadata": {},
   "outputs": [],
   "source": [
    "# Log transform og IQR\n",
    "df_train_copy = df_train.copy()\n",
    "\n",
    "if (df_train_copy['sales'] <= 0).any():\n",
    "    print(\"Warning: Sales column contains zero or negative values, which cannot be log-transformed directly.\")\n",
    "    # Option 1: Filter out non-positive values\n",
    "    df_train_copy = df_train_copy[df_train_copy['sales'] > 0].copy()\n",
    "    # Option 2: Alternatively, add a small constant to avoid log(0) issues\n",
    "    # df_train['sales'] = df_train['sales'] + 1e-9\n",
    "\n",
    "# Step 2: Apply the log transformation to the 'sales' column\n",
    "df_train_copy['log_sales'] = np.log(df_train_copy['sales'])\n",
    "\n",
    "# Step 3: Plot the original sales data and the log-transformed data\n",
    "plt.figure(figsize=(14, 7))\n",
    "\n",
    "# Plot original sales data\n",
    "plt.subplot(1, 2, 1)\n",
    "plt.hist(df_train_copy['sales'], bins=50, color='blue', alpha=0.7)\n",
    "plt.title('Original Sales Distribution')\n",
    "plt.xlabel('Sales')\n",
    "plt.ylabel('Frequency')\n",
    "\n",
    "# Plot log-transformed sales data\n",
    "plt.subplot(1, 2, 2)\n",
    "plt.hist(df_train_copy['log_sales'], bins=50, color='green', alpha=0.7)\n",
    "plt.title('Log-Transformed Sales Distribution')\n",
    "plt.xlabel('Log(Sales)')\n",
    "plt.ylabel('Frequency')\n",
    "\n",
    "plt.tight_layout()\n",
    "plt.show()\n",
    "\n",
    "Q1 = df_train_copy['log_sales'].quantile(0.25)\n",
    "Q3 = df_train_copy['log_sales'].quantile(0.75)\n",
    "IQR = Q3 - Q1\n",
    "\n",
    "# Define the lower and upper bounds for outliers\n",
    "lower_bound = Q1 - 1.5 * IQR\n",
    "upper_bound = Q3 + 1.5 * IQR\n",
    "\n",
    "# Step 2: Identify outliers in the log-transformed data\n",
    "df_train_copy['is_outlier'] = (df_train_copy['log_sales'] < lower_bound) | (df_train_copy['log_sales'] > upper_bound)\n",
    "\n",
    "# Step 3: Filter out the outliers\n",
    "df_train_filtered = df_train_copy[~df_train_copy['is_outlier']].copy()  # Keep only non-outliers\n",
    "\n",
    "# Step 4: Plot the time series before and after outlier removal\n",
    "\n",
    "# Plot sales data before outlier removal\n",
    "plt.figure(figsize=(14, 7))\n",
    "\n",
    "plt.subplot(2, 1, 1)\n",
    "plt.scatter(df_train_copy['date'], df_train_copy['sales'], color='blue', label='Original Sales Data', alpha=0.6)\n",
    "plt.scatter(df_train_copy[df_train_copy['is_outlier']]['date'], \n",
    "            df_train_copy[df_train_copy['is_outlier']]['sales'], \n",
    "            color='red', label='Outliers', alpha=0.8)\n",
    "plt.title('Sales Time Series with Outliers (Before Removal)')\n",
    "plt.xlabel('Date')\n",
    "plt.ylabel('Sales')\n",
    "plt.legend()\n",
    "\n",
    "# Plot sales data after outlier removal\n",
    "plt.subplot(2, 1, 2)\n",
    "plt.scatter(df_train_filtered['date'], df_train_filtered['sales'], color='green', label='Sales Data After Outlier Removal', alpha=0.6)\n",
    "plt.title('Sales Time Series After Outlier Removal')\n",
    "plt.xlabel('Date')\n",
    "plt.ylabel('Sales')\n",
    "plt.legend()\n",
    "\n",
    "plt.tight_layout()\n",
    "plt.show()\n",
    "\n",
    "# Step 5: Review the number of outliers removed\n",
    "print(f\"Total Outliers Detected: {df_train_copy['is_outlier'].sum()}\")\n",
    "print(f\"Remaining Data Points: {len(df_train_filtered)}\")"
   ]
  },
  {
   "cell_type": "code",
   "execution_count": null,
   "metadata": {},
   "outputs": [],
   "source": [
    "import pandas as pd\n",
    "import matplotlib.pyplot as plt\n",
    "from statsmodels.tsa.seasonal import seasonal_decompose\n",
    "\n",
    "# Ensure the index is in datetime format if it's not already\n",
    "df_train['date'] = pd.to_datetime(df_train['date'])  # Convert 'date' to datetime if needed\n",
    "df_train.set_index('date', inplace=True)  # Set date as the index\n",
    "\n",
    "# Group the sales by date (sum for each day)\n",
    "daily_sales = df_train['sales'].groupby(df_train.index.date).sum()  # Aggregate by date\n",
    "\n",
    "# Check the total number of observations\n",
    "print(f'Total observations in daily sales: {len(daily_sales)}')\n",
    "\n",
    "# Ensure you have enough data points (at least 730 for period=365)\n",
    "if len(daily_sales) >= 730:\n",
    "    decomposition = seasonal_decompose(daily_sales, model='additive', period=365)\n",
    "    \n",
    "    # Access the trend component\n",
    "    trend = decomposition.trend\n",
    "\n",
    "    # Plot the trend component\n",
    "    plt.figure(figsize=(16, 8))  # Increase the figure size\n",
    "    plt.plot(trend, label='Trend', color='orange')\n",
    "    plt.title('Trend for average total daily sales')\n",
    "    plt.xlabel('Date')\n",
    "    plt.ylabel('Average daily sales')\n",
    "    plt.legend()\n",
    "    plt.grid()\n",
    "    plt.show()\n",
    "else:\n",
    "    print(\"Not enough data for seasonal decomposition with a yearly period.\")\n"
   ]
  },
  {
   "cell_type": "code",
   "execution_count": null,
   "metadata": {},
   "outputs": [],
   "source": [
    "column = df_train['sales']\n",
    "window_percentage = 3  # Adjustable as needed\n",
    "k = int(len(column) * (window_percentage / 2 / 100))\n",
    "\n",
    "# Step 2: Use rolling windows to calculate dynamic bands (optimized)\n",
    "rolling_window = column.rolling(window=2*k, center=True, min_periods=1)\n",
    "mean_rolling = rolling_window.mean()\n",
    "std_rolling = rolling_window.std()\n",
    "\n",
    "# Step 3: Calculate upper and lower bounds using quantile-based outlier detection\n",
    "upper = mean_rolling + rolling_window.quantile(0.9)\n",
    "lower = mean_rolling - rolling_window.quantile(0.98)\n",
    "\n",
    "bands_df = pd.DataFrame({\n",
    "    'upper': upper,\n",
    "    'lower': lower\n",
    "})\n",
    "# bands_df.to_csv('../cache/bands.csv', index=False)\n",
    "\n",
    "# bands_df = pd.read_csv('../cache/bands.csv')\n",
    "\n",
    "# Step 5: Identify anomalies (sales values outside the bounds)\n",
    "anomalies = (column > upper) | (column < lower)\n",
    "\n",
    "# Step 6: Plot the sales data with detected anomalies and dynamic bounds\n",
    "plt.figure(figsize=(20, 10))\n",
    "\n",
    "# Plot the original sales data\n",
    "plt.scatter(df_train['date'], column, color='blue', alpha=0.6)\n",
    "\n",
    "# Plot the upper and lower bounds\n",
    "\n",
    "# Highlight anomalies\n",
    "plt.scatter(df_train['date'][anomalies], column[anomalies], color='orange', label='Outliers', zorder=5)\n",
    "\n",
    "# Add labels and legend\n",
    "plt.xlabel('Date')\n",
    "plt.ylabel('Sales')\n",
    "plt.title('Outlier detection for sales using 98th percentile as threshold')\n",
    "plt.legend()\n",
    "\n",
    "plt.plot(df_train['date'], upper, color='green', label='Upper Bound (98th quantile)')\n",
    "plt.plot(df_train['date'], lower, color='red', label='Lower Bound (98th quantile)')\n",
    "\n",
    "# Display plot\n",
    "plt.xticks(rotation=45)\n",
    "plt.tight_layout()\n",
    "plt.show()"
   ]
  },
  {
   "cell_type": "code",
   "execution_count": null,
   "metadata": {},
   "outputs": [],
   "source": [
    "# Sort the dataframe by sales in descending order\n",
    "df_train_sorted = df_train.sort_values(by='sales', ascending=False)\n",
    "df_train_sorted.head()"
   ]
  },
  {
   "cell_type": "code",
   "execution_count": null,
   "metadata": {},
   "outputs": [],
   "source": [
    "categories = df_train_sorted['family'].unique()\n",
    "sum_sales = df_train_sorted[df_train_sorted['family'].isin(categories)].groupby('family')['sales'].sum()\n",
    "sum_sales = sum_sales.sort_values(ascending=False)\n",
    "sum_sales.plot(kind='bar', figsize=(14, 7), color='skyblue')"
   ]
  },
  {
   "cell_type": "code",
   "execution_count": null,
   "metadata": {},
   "outputs": [],
   "source": [
    "holiday_dates = df_holidays_events['date'].unique()\n",
    "df_train_copy = df_train.copy()\n",
    "df_train_copy['is_holiday'] = df_train_copy['date'].isin(holiday_dates)\n",
    "plt.figure(figsize=(12, 6))\n",
    "no_holiday_data = df_train_copy[df_train_copy['is_holiday'] == False]\n",
    "plt.scatter(no_holiday_data['date'], no_holiday_data['sales'], color='blue', label='No Holiday')\n",
    "holiday_data = df_train_copy[df_train_copy['is_holiday'] == True]\n",
    "plt.scatter(holiday_data['date'], holiday_data['sales'], color='red', label='Holiday')\n",
    "plt.xlabel('Date')\n",
    "plt.ylabel('Sales')\n",
    "plt.title('Sales vs Date (Holidays Highlighted)')\n",
    "plt.legend()\n",
    "plt.xticks(rotation=45)\n",
    "plt.tight_layout()\n",
    "plt.show()"
   ]
  },
  {
   "cell_type": "markdown",
   "metadata": {},
   "source": [
    "## b. Decide whether to remove, cap, or transform the outliers. Justify your decisions.\n",
    "Det står i README'en at (og man kan se i holidays_events.csv):\n",
    "- A magnitude 7.8 earthquake struck Ecuador on April 16, 2016. People rallied in relief efforts donating water and other first need products which greatly affected supermarket sales for several weeks after the earthquake.\n",
    "\n",
    "De store spikes'ene kommer akkuratt samtidig som jordskjelvet, som har hatt dokumentert påvirkning på supermarket sales. Ettersom disse \"outlierne\" da sannsynligvis er reelle, og ikke må skyldes feilregistreringer, så kan det også godt være at de andre, men mindre, \"outlierne\" som skjedde tidligere egentlige ikke er feilregistreringer, siden det faktisk er fullt mulig å få så høye verdier. De andre outlierne kommer jo oftest ved årsskifte, så det er neppe noen tilfeldighet. \n",
    "\n",
    "Ved å skrive litt om de mulige metodene for outlier detection, for så å peke på at \"outlierne\" her trolig er reelle, så tor jeg det er helt fint å ikke fjerne noen verdier her. "
   ]
  },
  {
   "cell_type": "markdown",
   "metadata": {},
   "source": [
    "# Data Transformation"
   ]
  },
  {
   "cell_type": "markdown",
   "metadata": {},
   "source": [
    "## a. Encoding Categorical Data\n"
   ]
  },
  {
   "cell_type": "markdown",
   "metadata": {},
   "source": [
    "### i. Apply label encoding or one-hot encoding to transform categorical data into numerical form."
   ]
  },
  {
   "cell_type": "code",
   "execution_count": null,
   "metadata": {},
   "outputs": [],
   "source": [
    "df_train = pd.get_dummies(df_train, columns=['family', 'store_nbr']).astype(int)\n",
    "df_train.head()"
   ]
  },
  {
   "cell_type": "markdown",
   "metadata": {},
   "source": [
    "### ii. Justify your choice of encoding method."
   ]
  },
  {
   "cell_type": "markdown",
   "metadata": {},
   "source": [
    "Her ble one-hot-encoding benyttet. Grunnen til dette er at label encoding erstatter kategori-navnene med tall, hvorav maskinlæringsmodeller kan tolke dette som rekkefølger/at noe er større enn noe annet. Foreksempel, hvis man bruker label encoding på family_AUTOMOTIVE og family_BABYCARE, hvor family_AUTOMOTIVE=1 og family_BABYCARE=2, så kan noen modeller oppfatte dette som at family_AUTOMOTIVE < family_BABYCARE, når det egentlig ikke er noen rekkefølge på det. Label encoding brukes derfor ofte når kategoriene har en bestemt rekkefølge, foreksempel og kategoriene er EASY, MEDIUM, HARD. \n",
    "\n",
    "One-hot-encoding derimot, setter opp en kolonne for hver av kategoriene, og putter en 1'er i den kolonnen man har en kategori. Dette forhindrer dermed at modeller kan tolke kategoriene som rekkefølger. One-hot brukes dermed når det ikke er noen rekkefølge på kategoriene, som er tilfellene her med family og store_nbr. "
   ]
  },
  {
   "cell_type": "markdown",
   "metadata": {},
   "source": [
    "## b. Feature Scaling"
   ]
  },
  {
   "cell_type": "markdown",
   "metadata": {},
   "source": [
    "### i. Apply feature scaling techniques such as normalization (Min-Max scaling) or standardization (Z-score normalization) to the dataset\n",
    "Gikk for normalization: [Kilde](https://www.shiksha.com/online-courses/articles/normalization-and-standardization/#8)"
   ]
  },
  {
   "cell_type": "code",
   "execution_count": null,
   "metadata": {},
   "outputs": [],
   "source": [
    "columns_to_scale = ['date', 'sales', 'onpromotion']\n",
    "min_max_scaler = MinMaxScaler()\n",
    "df_train[columns_to_scale] = min_max_scaler.fit_transform(df_train[columns_to_scale])\n",
    "df_train[(df_train['sales'] > 0) & (df_train['onpromotion'] > 0)].head()"
   ]
  },
  {
   "cell_type": "markdown",
   "metadata": {},
   "source": [
    "### ii. Explain why feature scaling is necessary and how it impacts the model."
   ]
  },
  {
   "cell_type": "markdown",
   "metadata": {},
   "source": [
    "!!! chatgpt, må skrive dette med egne ord:\n",
    "\n",
    "1. **Handling Different Ranges:**\n",
    "   - Data features can vary greatly in their range of values. For example, one feature might range from 0 to 1000, while another might range from 0 to 1. This difference can cause issues in machine learning models that are sensitive to the scale of the input features (e.g., gradient-based models like linear regression or neural networks).\n",
    "   \n",
    "2. **Model Performance:**\n",
    "   - **Gradient Descent-based models** (e.g., linear regression, neural networks) are highly sensitive to the scale of input data. If one feature dominates due to its large magnitude, it can cause the model to converge more slowly or get stuck in suboptimal solutions.\n",
    "   - Models like **K-Nearest Neighbors (KNN)**, **Support Vector Machines (SVM)**, and **Principal Component Analysis (PCA)** rely on distances between data points. Without scaling, features with larger ranges can disproportionately influence the distances and, consequently, the model's performance.\n",
    "\n",
    "3. **Improves Training Stability:**\n",
    "   - In neural networks, if input features have different scales, the optimization process during backpropagation can be more unstable, leading to poor convergence and potentially exploding or vanishing gradients. Scaling helps stabilize training and improves convergence speed.\n",
    "\n",
    "4. **Prevents Bias in Models:**\n",
    "   - Without scaling, models might place more importance on features with larger ranges, which could result in biased models that don't perform well on unseen data. Feature scaling ensures each feature contributes equally to the model's predictions.\n"
   ]
  },
  {
   "cell_type": "markdown",
   "metadata": {},
   "source": [
    "# 5. Data Splitting"
   ]
  },
  {
   "cell_type": "markdown",
   "metadata": {},
   "source": [
    "## a. Split the preprocessed dataset into training and testing sets. Typically, an 80-20 or 70-30 split is used."
   ]
  },
  {
   "cell_type": "code",
   "execution_count": null,
   "metadata": {},
   "outputs": [],
   "source": [
    "target_variable = 'sales'\n",
    "\n",
    "X = df_train.drop(target_variable, axis=1)\n",
    "y = df_train[target_variable]\n",
    "\n",
    "X_train, X_test, y_train, y_test = train_test_split(X, y, test_size=0.2, random_state=42)"
   ]
  },
  {
   "cell_type": "markdown",
   "metadata": {},
   "source": [
    "## b. Explain the importance of splitting the data and how it prevents overfitting."
   ]
  },
  {
   "cell_type": "markdown",
   "metadata": {},
   "source": [
    "!!! Igjen, bare chatgpt her, men gode poeng, burde skrive dette med egne ord\n",
    "\n",
    "##### Splitting the Preprocessed Dataset into Training and Testing Sets\n",
    "\n",
    "When building a machine learning model, it is crucial to evaluate its performance on unseen data. To achieve this, the dataset is typically split into two subsets: the training set and the testing set. \n",
    "\n",
    "##### Common Splitting Ratios\n",
    "- **80-20 Split:** This is one of the most common splits. 80% of the data is used for training the model, while 20% is reserved for testing. This ratio provides a good balance, allowing the model to learn from a substantial amount of data while still having enough data to evaluate its performance effectively.\n",
    "- **70-30 Split:** In cases where the dataset is relatively small, a 70-30 split can also be effective. This allows for a larger testing set to better assess the model's performance and generalization capability.\n",
    "\n",
    "##### Reasons for Choosing a Percentage\n",
    "1. **Balance Between Training and Testing:**\n",
    "   - The goal is to provide enough data for the model to learn from while ensuring that the testing set is large enough to provide a reliable estimate of the model's performance on unseen data.\n",
    "\n",
    "2. **Avoiding Overfitting:**\n",
    "   - Using a significant portion of the data for training (e.g., 80%) helps the model learn complex patterns. However, keeping a substantial portion (e.g., 20%) for testing helps detect overfitting, where the model performs well on training data but poorly on unseen data.\n",
    "\n",
    "3. **Generalizability:**\n",
    "   - A proper split helps ensure that the model can generalize well to new, unseen data, which is essential for practical applications. A too-small testing set might lead to unreliable performance metrics.\n",
    "\n",
    "4. **Domain-Specific Considerations:**\n",
    "   - Depending on the application, the importance of training versus testing data might vary. For example, in some cases (e.g., medical or financial applications), it's more critical to have a robust testing set to evaluate the model's reliability.\n"
   ]
  },
  {
   "cell_type": "markdown",
   "metadata": {},
   "source": [
    "# 6. Bonus Task (dimentionality reduction): Apply dimensionality reduction techniques such as Principal Component Analysis (PCA) and discuss how it affects the dataset."
   ]
  },
  {
   "cell_type": "markdown",
   "metadata": {},
   "source": [
    "!!! chatgpt\n",
    "\n",
    "### Dimensionality Reduction: An Overview\n",
    "\n",
    "Dimensionality reduction is the process of reducing the number of features or variables in a dataset while retaining essential information. This technique is beneficial for several reasons:\n",
    "\n",
    "1. **Reduced Complexity:** By decreasing the number of dimensions, models can become less complex and easier to interpret.\n",
    "2. **Improved Performance:** It can enhance the performance of machine learning algorithms by reducing overfitting and speeding up computation times.\n",
    "3. **Enhanced Visualization:** Lower-dimensional data can be visualized more easily, allowing for better insights into the structure and patterns within the data.\n",
    "\n",
    "### Why PCA?\n",
    "\n",
    "Principal Component Analysis (PCA) is a popular dimensionality reduction technique due to its effectiveness in:\n",
    "\n",
    "- **Variance Preservation:** PCA selects principal components that capture the most variance in the data, ensuring that the important features are retained.\n",
    "- **Uncorrelated Components:** The new features generated by PCA are uncorrelated, which helps in avoiding multicollinearity issues.\n",
    "- **Computational Efficiency:** PCA is computationally efficient and can handle large datasets effectively, making it suitable for various applications in data analysis and machine learning.\n"
   ]
  },
  {
   "cell_type": "code",
   "execution_count": null,
   "metadata": {},
   "outputs": [],
   "source": [
    "pca = PCA(n_components=0.95)\n",
    "X_train_pca = pca.fit_transform(X_train)\n",
    "print(f'Original number of features: {X_train.shape[1]}')\n",
    "print(f'Reduced number of features: {X_train_pca.shape[1]}')"
   ]
  }
 ],
 "metadata": {
  "kernelspec": {
   "display_name": "Python 3 (ipykernel)",
   "language": "python",
   "name": "python3"
  },
  "language_info": {
   "codemirror_mode": {
    "name": "ipython",
    "version": 3
   },
   "file_extension": ".py",
   "mimetype": "text/x-python",
   "name": "python",
   "nbconvert_exporter": "python",
   "pygments_lexer": "ipython3",
   "version": "3.11.9"
  }
 },
 "nbformat": 4,
 "nbformat_minor": 4
}
