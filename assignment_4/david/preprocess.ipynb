{
 "cells": [
  {
   "cell_type": "code",
   "execution_count": 4,
   "metadata": {},
   "outputs": [
    {
     "name": "stdout",
     "output_type": "stream",
     "text": [
      "Handling missing values...\n",
      "Handling outliers...\n",
      "Shape after outlier removal: (846398, 24)\n",
      "Encoding categorical variables...\n"
     ]
    },
    {
     "name": "stderr",
     "output_type": "stream",
     "text": [
      "C:\\Users\\david\\AppData\\Local\\Temp\\ipykernel_33832\\1598562774.py:51: SettingWithCopyWarning: \n",
      "A value is trying to be set on a copy of a slice from a DataFrame.\n",
      "Try using .loc[row_indexer,col_indexer] = value instead\n",
      "\n",
      "See the caveats in the documentation: https://pandas.pydata.org/pandas-docs/stable/user_guide/indexing.html#returning-a-view-versus-a-copy\n",
      "  data[col] = le.fit_transform(data[col])\n",
      "C:\\Users\\david\\AppData\\Local\\Temp\\ipykernel_33832\\1598562774.py:51: SettingWithCopyWarning: \n",
      "A value is trying to be set on a copy of a slice from a DataFrame.\n",
      "Try using .loc[row_indexer,col_indexer] = value instead\n",
      "\n",
      "See the caveats in the documentation: https://pandas.pydata.org/pandas-docs/stable/user_guide/indexing.html#returning-a-view-versus-a-copy\n",
      "  data[col] = le.fit_transform(data[col])\n"
     ]
    },
    {
     "name": "stdout",
     "output_type": "stream",
     "text": [
      "Standardizing numerical features...\n"
     ]
    },
    {
     "name": "stderr",
     "output_type": "stream",
     "text": [
      "C:\\Users\\david\\AppData\\Local\\Temp\\ipykernel_33832\\1598562774.py:57: SettingWithCopyWarning: \n",
      "A value is trying to be set on a copy of a slice from a DataFrame.\n",
      "Try using .loc[row_indexer,col_indexer] = value instead\n",
      "\n",
      "See the caveats in the documentation: https://pandas.pydata.org/pandas-docs/stable/user_guide/indexing.html#returning-a-view-versus-a-copy\n",
      "  data[numerical_cols] = scaler.fit_transform(data[numerical_cols])\n"
     ]
    },
    {
     "name": "stdout",
     "output_type": "stream",
     "text": [
      "Applying PCA...\n",
      "Preprocessing completed. Final DataFrame:\n",
      "      PCA_1     PCA_2     PCA_3     PCA_4     PCA_5     PCA_6     PCA_7  \\\n",
      "0  2.025544 -0.839784  0.093497 -0.391787 -0.352669  0.355572 -0.164468   \n",
      "1  2.922318 -1.236869  1.051027 -1.166578 -0.399198  0.857755 -0.183687   \n",
      "2  2.176327 -1.141228 -1.773216  2.290390  0.892830 -0.814453 -0.163571   \n",
      "3  2.788370 -0.955241  0.200883 -0.923216  1.914884  1.290956 -0.225850   \n",
      "4 -0.394487  0.184766  0.225146 -1.362446  1.285946 -0.096540 -0.117903   \n",
      "\n",
      "      PCA_8     PCA_9    PCA_10    PCA_11    PCA_12    PCA_13    PCA_14  \\\n",
      "0 -0.800276 -0.820335 -0.132950 -0.989938 -0.346889  0.523006  1.393215   \n",
      "1 -0.007633 -0.208420 -0.902020 -0.591838  1.065905 -0.207177 -0.626641   \n",
      "2 -0.860071 -0.888167  0.363757  0.057846 -0.152175  0.582983  0.951937   \n",
      "3 -0.473241 -1.610877  0.626448 -0.055571 -0.877178 -1.404855  1.232052   \n",
      "4  0.100565 -0.316057 -0.071800 -0.052944 -0.232403  0.185553  0.093275   \n",
      "\n",
      "     PCA_15  sex  DRK_YN  \n",
      "0 -0.471360    1       1  \n",
      "1 -0.032751    1       0  \n",
      "2  0.154926    1       0  \n",
      "3  0.253268    1       0  \n",
      "4  0.619814    1       0  \n"
     ]
    }
   ],
   "source": [
    "import pandas as pd\n",
    "import numpy as np\n",
    "from sklearn.decomposition import PCA\n",
    "from sklearn.preprocessing import StandardScaler, LabelEncoder\n",
    "from sklearn.impute import SimpleImputer\n",
    "from scipy.stats import zscore\n",
    "\n",
    "# Load the dataset\n",
    "file_path = \"..\\..\\data\\smoking-drinking\\smoking_driking_dataset_Ver01.csv\"\n",
    "df = pd.read_csv(file_path)\n",
    "\n",
    "# Feature list to process\n",
    "features = [\n",
    "    \"sex\", \"age\", \"height\", \"weight\", \"waistline\", \"sight_left\", \"sight_right\", \"hear_left\", \n",
    "    \"hear_right\", \"SBP\", \"DBP\", \"BLDS\", \"tot_chole\", \"HDL_chole\", \"LDL_chole\", \"triglyceride\", \n",
    "    \"hemoglobin\", \"urine_protein\", \"serum_creatinine\", \"SGOT_AST\", \"SGOT_ALT\", \"gamma_GTP\", \n",
    "    \"SMK_stat_type_cd\", \"DRK_YN\"\n",
    "]\n",
    "\n",
    "# Filter dataset to include only the relevant features\n",
    "df = df[features]\n",
    "\n",
    "# Preprocessing pipeline\n",
    "def preprocess_data(data):\n",
    "    # Step 1: Handle missing values\n",
    "    print(\"Handling missing values...\")\n",
    "    imputer = SimpleImputer(strategy='mean')  # Use mean for numerical columns\n",
    "    categorical_imputer = SimpleImputer(strategy='most_frequent')  # Mode for categorical columns\n",
    "\n",
    "    # Separate numerical and categorical columns\n",
    "    numerical_cols = data.select_dtypes(include=[np.number]).columns\n",
    "    categorical_cols = data.select_dtypes(include=['object']).columns\n",
    "\n",
    "    # Impute missing values\n",
    "    data[numerical_cols] = imputer.fit_transform(data[numerical_cols])\n",
    "    data[categorical_cols] = categorical_imputer.fit_transform(data[categorical_cols])\n",
    "\n",
    "    # Step 2: Handle outliers using Z-score\n",
    "    print(\"Handling outliers...\")\n",
    "    z_threshold = 3\n",
    "    z_scores = data[numerical_cols].apply(zscore)  # Compute Z-scores for all numerical columns\n",
    "    data = data[(abs(z_scores) < z_threshold).all(axis=1)]  # Retain rows where all Z-scores are within the threshold\n",
    "    print(\"Shape after outlier removal:\", data.shape)\n",
    "\n",
    "\n",
    "    # Step 3: Encode categorical variables\n",
    "    print(\"Encoding categorical variables...\")\n",
    "    label_encoders = {}\n",
    "    for col in categorical_cols:\n",
    "        le = LabelEncoder()\n",
    "        data[col] = le.fit_transform(data[col])\n",
    "        label_encoders[col] = le  # Save encoders for potential inverse transforms\n",
    "\n",
    "    # Step 4: Standardize numerical features\n",
    "    print(\"Standardizing numerical features...\")\n",
    "    scaler = StandardScaler()\n",
    "    data[numerical_cols] = scaler.fit_transform(data[numerical_cols])\n",
    "\n",
    "    # Step 5: Apply PCA for dimensionality reduction\n",
    "    print(\"Applying PCA...\")\n",
    "    pca = PCA(n_components=0.95)  # Retain 95% variance\n",
    "    pca_features = pca.fit_transform(data[numerical_cols])\n",
    "\n",
    "    # Replace numerical columns with PCA-transformed features\n",
    "    pca_columns = [f\"PCA_{i+1}\" for i in range(pca_features.shape[1])]\n",
    "    pca_df = pd.DataFrame(pca_features, columns=pca_columns)\n",
    "\n",
    "    # Combine PCA-transformed features with categorical features\n",
    "    final_data = pd.concat([pca_df.reset_index(drop=True), data[categorical_cols].reset_index(drop=True)], axis=1)\n",
    "\n",
    "    return final_data\n",
    "\n",
    "# Apply preprocessing\n",
    "df = preprocess_data(df)\n",
    "\n",
    "# Display the preprocessed DataFrame\n",
    "print(\"Preprocessing completed. Final DataFrame:\")\n",
    "print(df.head())\n",
    "\n",
    "# Save the preprocessed DataFrame to a CSV file (optional)\n",
    "df.to_csv(\"preprocessed_data.csv\", index=False)"
   ]
  }
 ],
 "metadata": {
  "kernelspec": {
   "display_name": "venv",
   "language": "python",
   "name": "python3"
  },
  "language_info": {
   "codemirror_mode": {
    "name": "ipython",
    "version": 3
   },
   "file_extension": ".py",
   "mimetype": "text/x-python",
   "name": "python",
   "nbconvert_exporter": "python",
   "pygments_lexer": "ipython3",
   "version": "3.10.6"
  }
 },
 "nbformat": 4,
 "nbformat_minor": 2
}
